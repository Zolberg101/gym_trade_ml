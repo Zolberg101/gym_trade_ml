{
 "cells": [
  {
   "cell_type": "code",
   "execution_count": 22,
   "metadata": {
    "ExecuteTime": {
     "end_time": "2019-12-16T15:30:21.642112Z",
     "start_time": "2019-12-16T15:30:19.694251Z"
    }
   },
   "outputs": [],
   "source": [
    "import pandas as pd\n",
    "import numpy as np\n",
    "df = pd.read_csv('data\\SPFB.RTS_090601_190813.txt',sep=',')\n",
    "df['Timestamp'] = df[\"<DATE>\"].astype(str) + df[\"<TIME>\"].astype(str)\n",
    "df['Timestamp'] = pd.to_datetime(df['Timestamp'],format='%Y%m%d%H%M%S')\n",
    "df.set_index('Timestamp',inplace=True)\n",
    "df.drop(['<DATE>','<TIME>'],axis=1,inplace=True)\n",
    "df.columns = ['Open','High','Low','Close','Vol']\n",
    "df.drop('Vol',axis=1,inplace=True)\n",
    "import os\n",
    "#os.environ['CUDA_VISIBLE_DEVICES'] = '-1'"
   ]
  },
  {
   "cell_type": "code",
   "execution_count": 23,
   "metadata": {
    "ExecuteTime": {
     "end_time": "2019-12-16T15:30:21.748223Z",
     "start_time": "2019-12-16T15:30:21.677386Z"
    },
    "scrolled": true
   },
   "outputs": [
    {
     "name": "stderr",
     "output_type": "stream",
     "text": [
      "C:\\ProgramData\\Anaconda3\\envs\\tensorflow_gpuenv\\lib\\site-packages\\ipykernel_launcher.py:2: FutureWarning: how in .resample() is deprecated\n",
      "the new syntax is .resample(...)..apply(<func>)\n",
      "  \n"
     ]
    }
   ],
   "source": [
    "conversion = {'Open' : 'first', 'High' : 'max', 'Low' : 'min', 'Close' : 'last'}\n",
    "df=df.resample('30Min', how=conversion)\n",
    "df.dropna(inplace=True)"
   ]
  },
  {
   "cell_type": "code",
   "execution_count": 24,
   "metadata": {
    "ExecuteTime": {
     "end_time": "2019-12-16T15:31:12.782804Z",
     "start_time": "2019-12-16T15:31:12.702917Z"
    }
   },
   "outputs": [],
   "source": [
    "def bar_norm(df):\n",
    "    t2=df.copy()\n",
    "    temp=df.copy()\n",
    "    temp['dif_close_1_cum']=(temp['Close']-temp['Close'].shift()).shift().cumsum()\n",
    "    t2['Open_std']=t2['Open'] - temp['dif_close_1_cum']\n",
    "    t2['High_std']=t2['High'] - temp['dif_close_1_cum']\n",
    "    t2['Low_std']=t2['Low'] - temp['dif_close_1_cum']\n",
    "    t2['Close_std']=t2['Close'] - temp['dif_close_1_cum']\n",
    "    t2['Open_std']=t2['Open_std'] - temp['Close'][0]\n",
    "    t2['High_std']=t2['High_std'] - temp['Close'][0]\n",
    "    t2['Low_std']=t2['Low_std'] - temp['Close'][0]\n",
    "    t2['Close_std']=t2['Close_std'] - temp['Close'][0]\n",
    "    t2=t2.iloc[2:]\n",
    "    return t2\n",
    "\n",
    "def bar_norm_all(df):\n",
    "    df=bar_norm(df)\n",
    "    df['std']=df['Close_std'].rolling(1250).std()\n",
    "    df.dropna(inplace=True)\n",
    "    df['Open_std']=df['Open_std']/df['std']\n",
    "    df['High_std']=df['High_std']/df['std']\n",
    "    df['Low_std']=df['Low_std']/df['std']\n",
    "    df['Close_std']=df['Close_std']/df['std']\n",
    "    df.drop('std',axis=1,inplace=True)\n",
    "    return df\n",
    "df=bar_norm_all(df)\n",
    "df=df[-70000:]\n",
    "df_train=df[:-30000]\n",
    "df_valid=df[-30000:-15000]\n",
    "df_test=df[-15000:]"
   ]
  },
  {
   "cell_type": "code",
   "execution_count": null,
   "metadata": {},
   "outputs": [],
   "source": []
  },
  {
   "cell_type": "code",
   "execution_count": null,
   "metadata": {},
   "outputs": [],
   "source": []
  },
  {
   "cell_type": "code",
   "execution_count": 25,
   "metadata": {
    "ExecuteTime": {
     "end_time": "2019-12-16T15:31:13.785681Z",
     "start_time": "2019-12-16T15:31:13.781692Z"
    }
   },
   "outputs": [],
   "source": [
    "import gym\n",
    "import gym_RTStrade"
   ]
  },
  {
   "cell_type": "code",
   "execution_count": 26,
   "metadata": {
    "ExecuteTime": {
     "end_time": "2019-12-16T15:31:14.002181Z",
     "start_time": "2019-12-16T15:31:13.998189Z"
    }
   },
   "outputs": [
    {
     "name": "stdout",
     "output_type": "stream",
     "text": [
      "v1.2\n"
     ]
    }
   ],
   "source": [
    "env = gym.make('Trade-v1')\n",
    "env.data_init(df_train,df_valid,df_test,df_test.iloc[:,:4])"
   ]
  },
  {
   "cell_type": "code",
   "execution_count": 27,
   "metadata": {
    "ExecuteTime": {
     "end_time": "2019-12-16T15:31:15.279581Z",
     "start_time": "2019-12-16T15:31:15.270633Z"
    }
   },
   "outputs": [],
   "source": [
    "def score_train_model(model):   \n",
    "    obs = env.reset_to_trainScore()\n",
    "    obs_v=obs.values\n",
    "    while True:      \n",
    "        state = np.reshape(obs_v, [1, 40, 4])\n",
    "        predict = model.predict([state])[0]\n",
    "        action = np.argmax(predict)\n",
    "        obs, reward, done, _ = env.step(action)\n",
    "        obs_v=obs.values\n",
    "        if done:\n",
    "            print('done')\n",
    "            break\n",
    "    \n",
    "    return (env.net,env.action_count)\n",
    "\n",
    "def score_valid_model(model):\n",
    "    obs = env.reset_to_validScore()\n",
    "    obs_v=obs.values\n",
    "    while True:       \n",
    "        state = np.reshape(obs_v, [1, 40, 4])\n",
    "        predict = model.predict([state])[0]\n",
    "        action = np.argmax(predict)\n",
    "        obs, reward, done, _ = env.step(action)\n",
    "        obs_v=obs.values\n",
    "        if done:\n",
    "            print('done')\n",
    "            break\n",
    "    return (env.net,env.action_count)\n",
    "\n",
    "def score_test_model(model):\n",
    "    obs = env.reset_to_testScore()\n",
    "    obs_v=obs.values\n",
    "    while True:       \n",
    "        state = np.reshape(obs_v, [1, 40, 4])\n",
    "        predict = model.predict([state])[0]\n",
    "        action = np.argmax(predict)\n",
    "        obs, reward, done, _ = env.step(action)\n",
    "        obs_v=obs.values\n",
    "        if done:\n",
    "            print('done')\n",
    "            break\n",
    "    return (env.net,env.action_count)\n",
    "\n",
    "def score_testReal_model(model):\n",
    "    obs = env.reset_to_testReal()\n",
    "    obs = bar_norm_all(obs)\n",
    "    obs=obs.iloc[-40:,4:]\n",
    "    obs_v=obs.values\n",
    "    while True:      \n",
    "        state = np.reshape(obs_v, [1, 40, 4])\n",
    "        predict = model.predict([state])[0]\n",
    "        action = np.argmax(predict)\n",
    "        obs, reward, done, _ = env.step_real(action)\n",
    "        obs = bar_norm_all(obs)\n",
    "        obs=obs.iloc[-40:,4:]\n",
    "        obs_v=obs.values\n",
    "        if done:\n",
    "            print('done')\n",
    "            break\n",
    "    return (env.net,env.action_count)"
   ]
  },
  {
   "cell_type": "code",
   "execution_count": 29,
   "metadata": {
    "ExecuteTime": {
     "end_time": "2019-12-16T15:55:28.948155Z",
     "start_time": "2019-12-16T15:55:28.803277Z"
    }
   },
   "outputs": [],
   "source": [
    "from keras.models import load_model\n",
    "model_p=load_model('models/model_v1big_199799')\n"
   ]
  },
  {
   "cell_type": "code",
   "execution_count": 30,
   "metadata": {
    "ExecuteTime": {
     "end_time": "2019-12-16T15:55:30.704318Z",
     "start_time": "2019-12-16T15:55:30.699331Z"
    },
    "scrolled": true
   },
   "outputs": [
    {
     "name": "stdout",
     "output_type": "stream",
     "text": [
      "_________________________________________________________________\n",
      "Layer (type)                 Output Shape              Param #   \n",
      "=================================================================\n",
      "input_x (InputLayer)         (None, 40, 4)             0         \n",
      "_________________________________________________________________\n",
      "conv1d_1 (Conv1D)            (None, 38, 16)            208       \n",
      "_________________________________________________________________\n",
      "conv1d_2 (Conv1D)            (None, 36, 24)            1176      \n",
      "_________________________________________________________________\n",
      "max_pooling1d_1 (MaxPooling1 (None, 18, 24)            0         \n",
      "_________________________________________________________________\n",
      "conv1d_3 (Conv1D)            (None, 16, 32)            2336      \n",
      "_________________________________________________________________\n",
      "conv1d_4 (Conv1D)            (None, 14, 48)            4656      \n",
      "_________________________________________________________________\n",
      "max_pooling1d_2 (MaxPooling1 (None, 7, 48)             0         \n",
      "_________________________________________________________________\n",
      "flatten_1 (Flatten)          (None, 336)               0         \n",
      "_________________________________________________________________\n",
      "dense_1 (Dense)              (None, 30)                10110     \n",
      "_________________________________________________________________\n",
      "dense_2 (Dense)              (None, 3)                 93        \n",
      "=================================================================\n",
      "Total params: 18,579\n",
      "Trainable params: 18,579\n",
      "Non-trainable params: 0\n",
      "_________________________________________________________________\n"
     ]
    }
   ],
   "source": [
    "model_p.summary()"
   ]
  },
  {
   "cell_type": "code",
   "execution_count": 42,
   "metadata": {},
   "outputs": [
    {
     "data": {
      "text/plain": [
       "array([8791,    0, 6169])"
      ]
     },
     "execution_count": 42,
     "metadata": {},
     "output_type": "execute_result"
    }
   ],
   "source": [
    "env.action_count"
   ]
  },
  {
   "cell_type": "code",
   "execution_count": 43,
   "metadata": {},
   "outputs": [
    {
     "name": "stdout",
     "output_type": "stream",
     "text": [
      "done\n"
     ]
    },
    {
     "data": {
      "text/plain": [
       "<matplotlib.axes._subplots.AxesSubplot at 0x22214a56400>"
      ]
     },
     "execution_count": 43,
     "metadata": {},
     "output_type": "execute_result"
    },
    {
     "data": {
      "image/png": "[encoded data removed]",
      "text/plain": [
       "<Figure size 432x288 with 1 Axes>"
      ]
     },
     "metadata": {
      "needs_background": "light"
     },
     "output_type": "display_data"
    }
   ],
   "source": [
    "score_testR, tac_testR = score_testReal_model(model_p)\n",
    "env.action_count\n",
    "pd.DataFrame(env.returns).cumsum().plot()"
   ]
  },
  {
   "cell_type": "code",
   "execution_count": 44,
   "metadata": {},
   "outputs": [
    {
     "name": "stdout",
     "output_type": "stream",
     "text": [
      "done\n"
     ]
    },
    {
     "data": {
      "text/plain": [
       "<matplotlib.axes._subplots.AxesSubplot at 0x22214e57f60>"
      ]
     },
     "execution_count": 44,
     "metadata": {},
     "output_type": "execute_result"
    },
    {
     "data": {
      "image/png": "[encoded data removed]",
      "text/plain": [
       "<Figure size 432x288 with 1 Axes>"
      ]
     },
     "metadata": {
      "needs_background": "light"
     },
     "output_type": "display_data"
    }
   ],
   "source": [
    "score_test= score_train_model(model_p)\n",
    "env.action_count\n",
    "pd.DataFrame(env.returns).cumsum().plot()"
   ]
  },
  {
   "cell_type": "code",
   "execution_count": 45,
   "metadata": {},
   "outputs": [
    {
     "name": "stdout",
     "output_type": "stream",
     "text": [
      "done\n"
     ]
    },
    {
     "data": {
      "text/plain": [
       "<matplotlib.axes._subplots.AxesSubplot at 0x22214e6c1d0>"
      ]
     },
     "execution_count": 45,
     "metadata": {},
     "output_type": "execute_result"
    },
    {
     "data": {
      "image/png": "[encoded data removed]",
      "text/plain": [
       "<Figure size 432x288 with 1 Axes>"
      ]
     },
     "metadata": {
      "needs_background": "light"
     },
     "output_type": "display_data"
    }
   ],
   "source": [
    "score_valid, tac_valid= score_valid_model(model_p)\n",
    "env.action_count\n",
    "pd.DataFrame(env.returns).cumsum().plot()"
   ]
  },
  {
   "cell_type": "code",
   "execution_count": 46,
   "metadata": {},
   "outputs": [
    {
     "name": "stdout",
     "output_type": "stream",
     "text": [
      "done\n"
     ]
    },
    {
     "data": {
      "text/plain": [
       "<matplotlib.axes._subplots.AxesSubplot at 0x22214c9bc88>"
      ]
     },
     "execution_count": 46,
     "metadata": {},
     "output_type": "execute_result"
    },
    {
     "data": {
      "image/png": "[encoded data removed]",
      "text/plain": [
       "<Figure size 432x288 with 1 Axes>"
      ]
     },
     "metadata": {
      "needs_background": "light"
     },
     "output_type": "display_data"
    }
   ],
   "source": [
    "env.action_count\n",
    "score_test, tac_test = score_test_model(model_p)\n",
    "pd.DataFrame(env.returns).cumsum().plot()"
   ]
  },
  {
   "cell_type": "code",
   "execution_count": 40,
   "metadata": {},
   "outputs": [
    {
     "data": {
      "text/plain": [
       "array([8791,    0, 6169])"
      ]
     },
     "execution_count": 40,
     "metadata": {},
     "output_type": "execute_result"
    }
   ],
   "source": []
  },
  {
   "cell_type": "code",
   "execution_count": 41,
   "metadata": {},
   "outputs": [
    {
     "data": {
      "text/plain": [
       "<matplotlib.axes._subplots.AxesSubplot at 0x22214aecc18>"
      ]
     },
     "execution_count": 41,
     "metadata": {},
     "output_type": "execute_result"
    },
    {
     "data": {
      "image/png": "[encoded data removed]",
      "text/plain": [
       "<Figure size 432x288 with 1 Axes>"
      ]
     },
     "metadata": {
      "needs_background": "light"
     },
     "output_type": "display_data"
    }
   ],
   "source": [
    "#pd.DataFrame(env.returns).cumsum().plot()"
   ]
  },
  {
   "cell_type": "code",
   "execution_count": null,
   "metadata": {},
   "outputs": [],
   "source": []
  },
  {
   "cell_type": "code",
   "execution_count": null,
   "metadata": {},
   "outputs": [],
   "source": []
  },
  {
   "cell_type": "code",
   "execution_count": null,
   "metadata": {},
   "outputs": [],
   "source": []
  },
  {
   "cell_type": "code",
   "execution_count": null,
   "metadata": {},
   "outputs": [],
   "source": []
  },
  {
   "cell_type": "code",
   "execution_count": null,
   "metadata": {},
   "outputs": [],
   "source": []
  }
 ],
 "metadata": {
  "kernelspec": {
   "display_name": "Python 3",
   "language": "python",
   "name": "python3"
  },
  "language_info": {
   "codemirror_mode": {
    "name": "ipython",
    "version": 3
   },
   "file_extension": ".py",
   "mimetype": "text/x-python",
   "name": "python",
   "nbconvert_exporter": "python",
   "pygments_lexer": "ipython3",
   "version": "3.7.3"
  },
  "nbTranslate": {
   "displayLangs": [
    "*"
   ],
   "hotkey": "alt-t",
   "langInMainMenu": true,
   "sourceLang": "en",
   "targetLang": "fr",
   "useGoogleTranslate": true
  },
  "varInspector": {
   "cols": {
    "lenName": 16,
    "lenType": 16,
    "lenVar": 40
   },
   "kernels_config": {
    "python": {
     "delete_cmd_postfix": "",
     "delete_cmd_prefix": "del ",
     "library": "var_list.py",
     "varRefreshCmd": "print(var_dic_list())"
    },
    "r": {
     "delete_cmd_postfix": ") ",
     "delete_cmd_prefix": "rm(",
     "library": "var_list.r",
     "varRefreshCmd": "cat(var_dic_list()) "
    }
   },
   "types_to_exclude": [
    "module",
    "function",
    "builtin_function_or_method",
    "instance",
    "_Feature"
   ],
   "window_display": false
  }
 },
 "nbformat": 4,
 "nbformat_minor": 2
}
